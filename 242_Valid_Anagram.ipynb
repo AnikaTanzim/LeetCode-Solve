{
  "nbformat": 4,
  "nbformat_minor": 0,
  "metadata": {
    "colab": {
      "provenance": [],
      "toc_visible": true
    },
    "kernelspec": {
      "name": "python3",
      "display_name": "Python 3"
    },
    "language_info": {
      "name": "python"
    }
  },
  "cells": [
    {
      "cell_type": "code",
      "source": [
        "class Solution:\n",
        "    def isAnagram(self, s: str, t: str) -> bool:\n",
        "        s= list(s)\n",
        "        t= list(t)\n",
        "        s.sort()\n",
        "        t.sort()\n",
        "        if s==t:\n",
        "            return True\n",
        "        else:\n",
        "            return False"
      ],
      "metadata": {
        "id": "vtD51mvIFeQd"
      },
      "execution_count": null,
      "outputs": []
    }
  ]
}