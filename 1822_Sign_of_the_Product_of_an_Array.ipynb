{
  "nbformat": 4,
  "nbformat_minor": 0,
  "metadata": {
    "colab": {
      "provenance": [],
      "toc_visible": true
    },
    "kernelspec": {
      "name": "python3",
      "display_name": "Python 3"
    },
    "language_info": {
      "name": "python"
    }
  },
  "cells": [
    {
      "cell_type": "code",
      "source": [
        "class Solution:\n",
        "    def arraySign(self, nums: List[int]) -> int:\n",
        "        cnt=0\n",
        "        if 0 in nums:\n",
        "            return 0\n",
        "        else:\n",
        "            for i in nums:\n",
        "                if i<0:\n",
        "                    cnt+=1\n",
        "            if cnt%2==0:\n",
        "                return 1\n",
        "            else:\n",
        "                return -1\n"
      ],
      "metadata": {
        "colab": {
          "base_uri": "https://localhost:8080/"
        },
        "id": "6yt8fk68W3XA",
        "outputId": "d30a4219-fcdc-4e70-f08f-fd6520bd084e"
      },
      "execution_count": 4,
      "outputs": [
        {
          "output_type": "stream",
          "name": "stdout",
          "text": [
            "-1\n"
          ]
        }
      ]
    }
  ]
}