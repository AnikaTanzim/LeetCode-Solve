{
  "nbformat": 4,
  "nbformat_minor": 0,
  "metadata": {
    "colab": {
      "provenance": [],
      "toc_visible": true
    },
    "kernelspec": {
      "name": "python3",
      "display_name": "Python 3"
    },
    "language_info": {
      "name": "python"
    }
  },
  "cells": [
    {
      "cell_type": "code",
      "source": [
        "class Solution:\n",
        "    def checkStraightLine(self, coordinates: List[List[int]]) -> bool:\n",
        "        if len(coordinates) == 2:\n",
        "            return True\n",
        "        else:\n",
        "            x1=coordinates[0][0]\n",
        "            y1=coordinates[0][1]\n",
        "            x2=coordinates[1][0]\n",
        "            y2=coordinates[1][1]\n",
        "\n",
        "            dx,dy = x2-x1, y2-y1\n",
        "            return all(dx*(y-y1) == dy * (x-x1) for x,y in coordinates[1:])\n",
        ""
      ],
      "metadata": {
        "id": "sePBWFKhgOSO"
      },
      "execution_count": null,
      "outputs": []
    }
  ]
}