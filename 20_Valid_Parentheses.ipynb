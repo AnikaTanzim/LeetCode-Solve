{
  "nbformat": 4,
  "nbformat_minor": 0,
  "metadata": {
    "colab": {
      "provenance": [],
      "toc_visible": true
    },
    "kernelspec": {
      "name": "python3",
      "display_name": "Python 3"
    },
    "language_info": {
      "name": "python"
    }
  },
  "cells": [
    {
      "cell_type": "code",
      "source": [
        "class Solution:\n",
        "    def isValid(self, s: str) -> bool:\n",
        "        stack = []\n",
        "        pairs = {\n",
        "            '(': ')',\n",
        "            '{': '}',\n",
        "            '[': ']'\n",
        "                }\n",
        "        for bracket in s:\n",
        "            if bracket in pairs:\n",
        "                stack.append(bracket)\n",
        "            elif len(stack) == 0 or bracket != pairs[stack.pop()]:\n",
        "                return False\n",
        "        return len(stack) == 0"
      ],
      "metadata": {
        "colab": {
          "base_uri": "https://localhost:8080/"
        },
        "id": "oJYiQlFlKnoE",
        "outputId": "61245a6a-20b5-4611-dd21-f4f474e53f83"
      },
      "execution_count": 7,
      "outputs": [
        {
          "output_type": "stream",
          "name": "stdout",
          "text": [
            "False\n",
            "True\n"
          ]
        }
      ]
    }
  ]
}