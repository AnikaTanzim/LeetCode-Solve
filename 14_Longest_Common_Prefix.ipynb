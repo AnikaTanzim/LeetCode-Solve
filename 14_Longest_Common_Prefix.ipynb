{
  "nbformat": 4,
  "nbformat_minor": 0,
  "metadata": {
    "colab": {
      "provenance": [],
      "toc_visible": true
    },
    "kernelspec": {
      "name": "python3",
      "display_name": "Python 3"
    },
    "language_info": {
      "name": "python"
    }
  },
  "cells": [
    {
      "cell_type": "code",
      "source": [
        "class Solution:\n",
        "    def longestCommonPrefix(self, strs: List[str]) -> str:\n",
        "        first = strs[0]\n",
        "        l = len(first)\n",
        "        count=0\n",
        "        prefix = \"\"\n",
        "        while count<l:\n",
        "            for str in strs:\n",
        "                if not count<len(str) or first[count] != str[count]:\n",
        "                    return prefix\n",
        "\n",
        "            prefix += first[count]\n",
        "            count+=1\n",
        "        return prefix"
      ],
      "metadata": {
        "id": "oJYiQlFlKnoE"
      },
      "execution_count": null,
      "outputs": []
    }
  ]
}