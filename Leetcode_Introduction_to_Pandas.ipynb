{
  "nbformat": 4,
  "nbformat_minor": 0,
  "metadata": {
    "colab": {
      "provenance": [],
      "toc_visible": true
    },
    "kernelspec": {
      "name": "python3",
      "display_name": "Python 3"
    },
    "language_info": {
      "name": "python"
    }
  },
  "cells": [
    {
      "cell_type": "markdown",
      "source": [
        "https://leetcode.com/studyplan/introduction-to-pandas/"
      ],
      "metadata": {
        "id": "CsvhvZ0aenEH"
      }
    },
    {
      "cell_type": "markdown",
      "source": [
        "2877. Create a DataFrame from List\n",
        "\n"
      ],
      "metadata": {
        "id": "J8A4qjh5eHjk"
      }
    },
    {
      "cell_type": "code",
      "source": [
        "import pandas as pd\n",
        "\n",
        "def createDataframe(student_data: List[List[int]]) -> pd.DataFrame:\n",
        "    df = pd.DataFrame(student_data, columns=['student_id', 'age'])\n",
        "    return df"
      ],
      "metadata": {
        "id": "UKLgA7M5eBZj"
      },
      "execution_count": null,
      "outputs": []
    },
    {
      "cell_type": "markdown",
      "source": [
        "2878. Get the Size of a DataFrame"
      ],
      "metadata": {
        "id": "9RFw8g8veJu_"
      }
    },
    {
      "cell_type": "code",
      "source": [
        "import pandas as pd\n",
        "\n",
        "def getDataframeSize(players: pd.DataFrame) -> List[int]:\n",
        "    return list(players.shape)"
      ],
      "metadata": {
        "id": "xaaGJPcreCWO"
      },
      "execution_count": null,
      "outputs": []
    },
    {
      "cell_type": "markdown",
      "source": [
        "2879. Display the First Three Rows"
      ],
      "metadata": {
        "id": "ViX213SCegNo"
      }
    },
    {
      "cell_type": "code",
      "source": [
        "import pandas as pd\n",
        "\n",
        "def selectFirstRows(employees: pd.DataFrame) -> pd.DataFrame:\n",
        "    return employees.head(3)"
      ],
      "metadata": {
        "id": "yPBrQWrteaHD"
      },
      "execution_count": null,
      "outputs": []
    },
    {
      "cell_type": "markdown",
      "source": [
        "2880. Select Data"
      ],
      "metadata": {
        "id": "x8T1P-41fCmy"
      }
    },
    {
      "cell_type": "code",
      "source": [
        "import pandas as pd\n",
        "\n",
        "def selectData(students: pd.DataFrame) -> pd.DataFrame:\n",
        "    sub_df =  students[students['student_id'] == 101]\n",
        "    return sub_df[['name', 'age']]"
      ],
      "metadata": {
        "id": "N5A9UCO5fDDc"
      },
      "execution_count": null,
      "outputs": []
    },
    {
      "cell_type": "markdown",
      "source": [
        "2881. Create a New Column"
      ],
      "metadata": {
        "id": "pzB5P4gmgmDX"
      }
    },
    {
      "cell_type": "code",
      "source": [
        "import pandas as pd\n",
        "\n",
        "def createBonusColumn(employees: pd.DataFrame) -> pd.DataFrame:\n",
        "    bonus = employees.salary *2\n",
        "    employees.loc[:, \"bonus\"] = bonus\n",
        "    return employees"
      ],
      "metadata": {
        "id": "935Z8sXQgmZU"
      },
      "execution_count": null,
      "outputs": []
    },
    {
      "cell_type": "markdown",
      "source": [
        "2882. Drop Duplicate Rows"
      ],
      "metadata": {
        "id": "uCBtH8TXh070"
      }
    },
    {
      "cell_type": "code",
      "source": [
        "import pandas as pd\n",
        "\n",
        "def dropDuplicateEmails(customers: pd.DataFrame) -> pd.DataFrame:\n",
        "    customers.drop_duplicates(subset=['email'], keep='first', inplace=True)\n",
        "    return customers"
      ],
      "metadata": {
        "id": "TpiYDg1Bi1hq"
      },
      "execution_count": null,
      "outputs": []
    },
    {
      "cell_type": "markdown",
      "source": [
        "2883. Drop Missing Data"
      ],
      "metadata": {
        "id": "In803G6ai7Q4"
      }
    },
    {
      "cell_type": "code",
      "source": [
        "import pandas as pd\n",
        "\n",
        "def dropMissingData(students: pd.DataFrame) -> pd.DataFrame:\n",
        "    students.dropna(subset=['name'], inplace=True)\n",
        "    return students\n"
      ],
      "metadata": {
        "id": "ws3PEmDijNAv"
      },
      "execution_count": null,
      "outputs": []
    },
    {
      "cell_type": "markdown",
      "source": [
        "2884. Modify Columns"
      ],
      "metadata": {
        "id": "M2X9YzxXj3Ta"
      }
    },
    {
      "cell_type": "code",
      "source": [
        "import pandas as pd\n",
        "\n",
        "def modifySalaryColumn(employees: pd.DataFrame) -> pd.DataFrame:\n",
        "    salary = employees.salary *2\n",
        "    employees.loc[:, \"salary\"] = salary\n",
        "    return employees"
      ],
      "metadata": {
        "id": "eZirJHu7j2W9"
      },
      "execution_count": null,
      "outputs": []
    },
    {
      "cell_type": "markdown",
      "source": [
        "2885. Rename Columns"
      ],
      "metadata": {
        "id": "vdwihRG3khuA"
      }
    },
    {
      "cell_type": "code",
      "source": [
        "import pandas as pd\n",
        "\n",
        "def renameColumns(students: pd.DataFrame) -> pd.DataFrame:\n",
        "    students.columns =['student_id','first_name', 'last_name', 'age_in_years']\n",
        "\n",
        "    return students"
      ],
      "metadata": {
        "id": "ufxoTe9rkdN0"
      },
      "execution_count": null,
      "outputs": []
    },
    {
      "cell_type": "markdown",
      "source": [
        "2886. Change Data Type"
      ],
      "metadata": {
        "id": "Z8Bg5dtmmIDQ"
      }
    },
    {
      "cell_type": "code",
      "source": [
        "import pandas as pd\n",
        "\n",
        "def changeDatatype(students: pd.DataFrame) -> pd.DataFrame:\n",
        "\n",
        "    students.grade = students.grade.astype(int)\n",
        "    return students"
      ],
      "metadata": {
        "id": "ltq9T7Fjkk0g"
      },
      "execution_count": null,
      "outputs": []
    },
    {
      "cell_type": "markdown",
      "source": [
        "2887. Fill Missing Data"
      ],
      "metadata": {
        "id": "StOspCFwmf_m"
      }
    },
    {
      "cell_type": "code",
      "source": [
        "import pandas as pd\n",
        "\n",
        "def fillMissingValues(products: pd.DataFrame) -> pd.DataFrame:\n",
        "    products.fillna({'quantity':0}, inplace=True)\n",
        "    return products"
      ],
      "metadata": {
        "id": "91fsaMvomRXy"
      },
      "execution_count": null,
      "outputs": []
    },
    {
      "cell_type": "markdown",
      "source": [
        "2888. Reshape Data: Concatenate"
      ],
      "metadata": {
        "id": "ALbY2kojnmG_"
      }
    },
    {
      "cell_type": "code",
      "source": [
        "import pandas as pd\n",
        "\n",
        "def concatenateTables(df1: pd.DataFrame, df2: pd.DataFrame) -> pd.DataFrame:\n",
        "    result_df = pd.concat([df1, df2], ignore_index=True)\n",
        "    return result_df\n"
      ],
      "metadata": {
        "id": "JBy2plfxmqD6"
      },
      "execution_count": null,
      "outputs": []
    },
    {
      "cell_type": "markdown",
      "source": [
        "2889. Reshape Data: Pivot"
      ],
      "metadata": {
        "id": "FU9TNfZ0oN9u"
      }
    },
    {
      "cell_type": "code",
      "source": [
        "import pandas as pd\n",
        "\n",
        "def pivotTable(weather: pd.DataFrame) -> pd.DataFrame:\n",
        "     return weather.pivot(index='month', columns='city', values='temperature')\n"
      ],
      "metadata": {
        "id": "YQ_V-Q6Xn_KQ"
      },
      "execution_count": null,
      "outputs": []
    },
    {
      "cell_type": "markdown",
      "source": [
        "2890. Reshape Data: Melt"
      ],
      "metadata": {
        "id": "ciz2kiy3qXZP"
      }
    },
    {
      "cell_type": "code",
      "source": [
        "import pandas as pd\n",
        "\n",
        "def meltTable(report: pd.DataFrame) -> pd.DataFrame:\n",
        "\n",
        "    return pd.melt(report, id_vars=['product'],var_name='quarter', value_name='sales')\n"
      ],
      "metadata": {
        "id": "088Iftw2ofrv"
      },
      "execution_count": null,
      "outputs": []
    },
    {
      "cell_type": "markdown",
      "source": [
        "2891. Method Chaining"
      ],
      "metadata": {
        "id": "1Qsq3wDCqYSc"
      }
    },
    {
      "cell_type": "code",
      "source": [
        "import pandas as pd\n",
        "\n",
        "def findHeavyAnimals(animals: pd.DataFrame) -> pd.DataFrame:\n",
        "    heavy_animals = animals[animals['weight'] > 100].sort_values('weight', ascending=False)\n",
        "    return heavy_animals[['name']]\n"
      ],
      "metadata": {
        "id": "oU9XO2ePqe9J"
      },
      "execution_count": null,
      "outputs": []
    }
  ]
}