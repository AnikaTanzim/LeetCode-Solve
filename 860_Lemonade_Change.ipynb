{
  "nbformat": 4,
  "nbformat_minor": 0,
  "metadata": {
    "colab": {
      "provenance": [],
      "toc_visible": true
    },
    "kernelspec": {
      "name": "python3",
      "display_name": "Python 3"
    },
    "language_info": {
      "name": "python"
    }
  },
  "cells": [
    {
      "cell_type": "code",
      "source": [
        "class Solution:\n",
        "    def lemonadeChange(self, bills: List[int]) -> bool:\n",
        "        chng=[]\n",
        "        for i in range(len(bills)):\n",
        "            if bills[i]==5:\n",
        "                chng.append(bills[i])\n",
        "            elif bills[i]==10:\n",
        "                if 5 in chng:\n",
        "                    chng.remove(5)\n",
        "                    chng.append(bills[i])\n",
        "                else:\n",
        "                    return False\n",
        "            elif bills[i]==20:\n",
        "                if 5 in chng and 10 in chng:\n",
        "                    chng.remove(5)\n",
        "                    chng.remove(10)\n",
        "                    chng.append(bills[i])\n",
        "                elif chng.count(5)>=3:\n",
        "                    chng.remove(5)\n",
        "                    chng.remove(5)\n",
        "                    chng.remove(5)\n",
        "                    chng.append(bills[i])\n",
        "                else:\n",
        "                   return False\n",
        "\n",
        "        return True"
      ],
      "metadata": {
        "id": "vtD51mvIFeQd"
      },
      "execution_count": null,
      "outputs": []
    }
  ]
}