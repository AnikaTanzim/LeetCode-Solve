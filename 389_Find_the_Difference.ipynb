{
  "nbformat": 4,
  "nbformat_minor": 0,
  "metadata": {
    "colab": {
      "provenance": [],
      "toc_visible": true
    },
    "kernelspec": {
      "name": "python3",
      "display_name": "Python 3"
    },
    "language_info": {
      "name": "python"
    }
  },
  "cells": [
    {
      "cell_type": "code",
      "source": [
        "class Solution:\n",
        "    def findTheDifference(self, s: str, t: str) -> str:\n",
        "        return [i for i in t if s.count(i) != t.count(i)][0]"
      ],
      "metadata": {
        "id": "sePBWFKhgOSO"
      },
      "execution_count": null,
      "outputs": []
    }
  ]
}