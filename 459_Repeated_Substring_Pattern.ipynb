{
  "nbformat": 4,
  "nbformat_minor": 0,
  "metadata": {
    "colab": {
      "provenance": [],
      "toc_visible": true
    },
    "kernelspec": {
      "name": "python3",
      "display_name": "Python 3"
    },
    "language_info": {
      "name": "python"
    }
  },
  "cells": [
    {
      "cell_type": "code",
      "source": [
        "class Solution:\n",
        "    def repeatedSubstringPattern(self, s: str) -> bool:\n",
        "        ss = (s + s)[1:-1]\n",
        "        if ss.find(s) != -1:\n",
        "            return True\n",
        "        else:\n",
        "            return False\n"
      ],
      "metadata": {
        "id": "vtD51mvIFeQd"
      },
      "execution_count": null,
      "outputs": []
    }
  ]
}