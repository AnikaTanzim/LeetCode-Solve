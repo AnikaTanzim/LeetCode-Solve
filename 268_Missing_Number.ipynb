{
  "nbformat": 4,
  "nbformat_minor": 0,
  "metadata": {
    "colab": {
      "provenance": [],
      "toc_visible": true
    },
    "kernelspec": {
      "name": "python3",
      "display_name": "Python 3"
    },
    "language_info": {
      "name": "python"
    }
  },
  "cells": [
    {
      "cell_type": "code",
      "source": [
        "class Solution:\n",
        "    def missingNumber(self, nums: List[int]) -> int:\n",
        "        ans= len(nums)\n",
        "        for i in range (0, max(nums)+1):\n",
        "            if i not in nums:\n",
        "                ans =i\n",
        "\n",
        "        return ans\n",
        ""
      ],
      "metadata": {
        "id": "sePBWFKhgOSO",
        "colab": {
          "base_uri": "https://localhost:8080/"
        },
        "outputId": "cd14d3c4-74fb-421f-8b95-fee4d5a9c0cb"
      },
      "execution_count": 6,
      "outputs": [
        {
          "output_type": "stream",
          "name": "stdout",
          "text": [
            "8\n"
          ]
        }
      ]
    }
  ]
}