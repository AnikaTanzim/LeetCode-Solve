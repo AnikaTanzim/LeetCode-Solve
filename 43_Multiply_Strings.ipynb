{
  "nbformat": 4,
  "nbformat_minor": 0,
  "metadata": {
    "colab": {
      "provenance": [],
      "toc_visible": true
    },
    "kernelspec": {
      "name": "python3",
      "display_name": "Python 3"
    },
    "language_info": {
      "name": "python"
    }
  },
  "cells": [
    {
      "cell_type": "markdown",
      "source": [
        "The time complexity of the provided code is O(m*n), where 'n' is the length of num1 and 'm' is the length of num2. This is because the nested loop iterates over all the digits in both strings.\n",
        "\n",
        "The space complexity is O(1), as the space used does not scale with the input size.\n",
        "\n",
        "Reasoning:\n",
        "\n",
        "Conversion to Integer Lists: The initial loops convert the string digits to integers, taking O(n) and O(m) time for num1 and num2 respectively.\n",
        "\n",
        "string_to_int Function: This function iterates over each digit in the list, performing a constant-time operation for each. So, it takes O(n) time for num1 and O(m) time for num2.\n",
        "\n",
        "Multiplication Loop: The final loop iterates over the digits of num2 (length 'm'), and for each digit, it performs a multiplication with num1_int (which takes O(n) time due to the internal operations within the integer multiplication). Therefore, this loop contributes O(m*n) to the time complexity.\n",
        "\n",
        "Constant Space: The variables used throughout the code (lists, integers, etc.) occupy a constant amount of space, regardless of the input size. Hence, the space complexity is O(1)."
      ],
      "metadata": {
        "id": "IFUA3mbSvJqr"
      }
    },
    {
      "cell_type": "code",
      "source": [
        "class Solution:\n",
        "\n",
        "\n",
        "    def multiply(self, num1: str, num2: str) -> str:\n",
        "        list1 = list(num1)\n",
        "        list2 = list(num2)\n",
        "        for i in range(len(list1)):\n",
        "            list1[i] = int(list1[i])\n",
        "            for i in range(len(list2)):\n",
        "                list2[i] = int(list2[i])\n",
        "        def string_to_int(list1):\n",
        "            num = 0\n",
        "            for i in range(0, len(list1)):\n",
        "                if i == (len(list1)-1):\n",
        "                    num += list1[i]\n",
        "                else:\n",
        "                    num += list1[i] * (10** (len(list1)- i -1))\n",
        "            return num\n",
        "\n",
        "\n",
        "        num1_int = string_to_int(list1)\n",
        "        num2_int = string_to_int(list2)\n",
        "\n",
        "        ans = 0\n",
        "        for i in range(len(list2)-1, -1, -1):\n",
        "            partial_product = num1_int * list2[i]\n",
        "            ans += partial_product * 10**(len(list2)-1-i)\n",
        "\n",
        "        return str(ans)\n"
      ],
      "metadata": {
        "colab": {
          "base_uri": "https://localhost:8080/"
        },
        "id": "vtD51mvIFeQd",
        "outputId": "d6f3ddfe-4aef-4806-c806-6411377b334a"
      },
      "execution_count": 51,
      "outputs": [
        {
          "output_type": "stream",
          "name": "stdout",
          "text": [
            "67143675422804947379429215144664313370120390398055713625298709447\n",
            "67143675422804947379429215144664313370120390398055713625298709447\n",
            "67143675422804947379429215144664313370120390398055713625298709447\n",
            "True\n"
          ]
        }
      ]
    }
  ]
}