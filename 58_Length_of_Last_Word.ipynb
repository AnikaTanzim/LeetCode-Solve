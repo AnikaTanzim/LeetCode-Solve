{
  "nbformat": 4,
  "nbformat_minor": 0,
  "metadata": {
    "colab": {
      "provenance": [],
      "toc_visible": true
    },
    "kernelspec": {
      "name": "python3",
      "display_name": "Python 3"
    },
    "language_info": {
      "name": "python"
    }
  },
  "cells": [
    {
      "cell_type": "code",
      "source": [
        "class Solution:\n",
        "    def lengthOfLastWord(self, s: str) -> int:\n",
        "        lists = s.split()\n",
        "        length = len (lists[-1])\n",
        "        return length"
      ],
      "metadata": {
        "id": "sePBWFKhgOSO"
      },
      "execution_count": null,
      "outputs": []
    }
  ]
}