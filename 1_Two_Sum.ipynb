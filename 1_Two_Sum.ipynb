{
  "nbformat": 4,
  "nbformat_minor": 0,
  "metadata": {
    "colab": {
      "provenance": [],
      "toc_visible": true
    },
    "kernelspec": {
      "name": "python3",
      "display_name": "Python 3"
    },
    "language_info": {
      "name": "python"
    }
  },
  "cells": [
    {
      "cell_type": "code",
      "source": [
        "class Solution:\n",
        "    def twoSum(self, nums: List[int], target: int) -> List[int]:\n",
        "        n = len(nums)\n",
        "        lists=[]\n",
        "\n",
        "        for i in range (0,n-1):\n",
        "            x = (target - nums[i])\n",
        "            y=i+1\n",
        "            for j in range (y,n):\n",
        "                if nums[j] == x:\n",
        "                    lists.append(j)\n",
        "                    lists.append(i)\n",
        "\n",
        "        return lists"
      ],
      "metadata": {
        "id": "sePBWFKhgOSO"
      },
      "execution_count": null,
      "outputs": []
    }
  ]
}