{
  "nbformat": 4,
  "nbformat_minor": 0,
  "metadata": {
    "colab": {
      "provenance": [],
      "toc_visible": true
    },
    "kernelspec": {
      "name": "python3",
      "display_name": "Python 3"
    },
    "language_info": {
      "name": "python"
    }
  },
  "cells": [
    {
      "cell_type": "code",
      "source": [
        "class Solution:\n",
        "    def singleNumber(self, nums: List[int]) -> int:\n",
        "        occurance = {}\n",
        "\n",
        "        for num in nums:\n",
        "            if num in occurance:\n",
        "                occurance[num] += 1\n",
        "            else:\n",
        "                occurance[num] = 1\n",
        "\n",
        "        for key, val in occurance.items():\n",
        "            if val == 1:\n",
        "                return key\n",
        "                break\n"
      ],
      "metadata": {
        "id": "sePBWFKhgOSO",
        "colab": {
          "base_uri": "https://localhost:8080/"
        },
        "outputId": "8f7f6c37-5348-4449-c6df-9500297b5e7f"
      },
      "execution_count": 8,
      "outputs": [
        {
          "output_type": "stream",
          "name": "stdout",
          "text": [
            "4\n"
          ]
        }
      ]
    }
  ]
}