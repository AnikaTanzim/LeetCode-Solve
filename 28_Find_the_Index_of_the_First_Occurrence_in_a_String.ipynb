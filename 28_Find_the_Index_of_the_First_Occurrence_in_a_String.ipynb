{
  "nbformat": 4,
  "nbformat_minor": 0,
  "metadata": {
    "colab": {
      "provenance": [],
      "toc_visible": true
    },
    "kernelspec": {
      "name": "python3",
      "display_name": "Python 3"
    },
    "language_info": {
      "name": "python"
    }
  },
  "cells": [
    {
      "cell_type": "code",
      "source": [
        "class Solution:\n",
        "    def strStr(self, haystack: str, needle: str) -> int:\n",
        "        if needle in haystack:\n",
        "            return haystack.index(needle)\n",
        "        else:\n",
        "            return -1"
      ],
      "metadata": {
        "id": "sePBWFKhgOSO"
      },
      "execution_count": null,
      "outputs": []
    }
  ]
}