{
  "nbformat": 4,
  "nbformat_minor": 0,
  "metadata": {
    "colab": {
      "provenance": [],
      "toc_visible": true
    },
    "kernelspec": {
      "name": "python3",
      "display_name": "Python 3"
    },
    "language_info": {
      "name": "python"
    }
  },
  "cells": [
    {
      "cell_type": "code",
      "source": [
        "class Solution:\n",
        "    def largestPerimeter(self, nums: List[int]) -> int:\n",
        "        nums.sort(reverse = True)\n",
        "\n",
        "        while len(nums) > 2 and nums[0] >= nums[1] + nums[2]:\n",
        "            nums.pop(0)\n",
        "\n",
        "        if len(nums) < 3:\n",
        "            return 0\n",
        "        else:\n",
        "            return sum(nums[:3])"
      ],
      "metadata": {
        "id": "vtD51mvIFeQd"
      },
      "execution_count": null,
      "outputs": []
    }
  ]
}