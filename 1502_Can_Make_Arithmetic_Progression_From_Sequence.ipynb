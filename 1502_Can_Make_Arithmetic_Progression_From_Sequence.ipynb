{
  "nbformat": 4,
  "nbformat_minor": 0,
  "metadata": {
    "colab": {
      "provenance": [],
      "toc_visible": true
    },
    "kernelspec": {
      "name": "python3",
      "display_name": "Python 3"
    },
    "language_info": {
      "name": "python"
    }
  },
  "cells": [
    {
      "cell_type": "code",
      "source": [
        "class Solution:\n",
        "    def canMakeArithmeticProgression(self, arr: List[int]) -> bool:\n",
        "        arr.sort()\n",
        "        diff = arr[1] - arr[0]\n",
        "\n",
        "        for i in range(1,len(arr)-1):\n",
        "            if arr[i+1]- arr[i] != diff:\n",
        "                return False\n",
        "        return True"
      ],
      "metadata": {
        "id": "6yt8fk68W3XA"
      },
      "execution_count": null,
      "outputs": []
    }
  ]
}