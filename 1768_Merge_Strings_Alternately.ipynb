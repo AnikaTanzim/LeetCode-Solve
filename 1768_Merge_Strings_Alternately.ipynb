{
  "nbformat": 4,
  "nbformat_minor": 0,
  "metadata": {
    "colab": {
      "provenance": [],
      "toc_visible": true
    },
    "kernelspec": {
      "name": "python3",
      "display_name": "Python 3"
    },
    "language_info": {
      "name": "python"
    }
  },
  "cells": [
    {
      "cell_type": "code",
      "source": [
        "class Solution:\n",
        "    def mergeAlternately(self, word1: str, word2: str) -> str:\n",
        "        lists=''\n",
        "        word1 =list(word1)\n",
        "        word2 =list(word2)\n",
        "        leng = len(word1) if len(word1)> len(word2) else len(word2)\n",
        "        for i in range(leng):\n",
        "            if i < len(word1) and i < len(word2):\n",
        "                lists += word1[i] + word2[i]\n",
        "            elif i<len(word1):\n",
        "               lists += word1[i]\n",
        "            elif i<len(word2):\n",
        "                lists += word2[i]\n",
        "\n",
        "        return lists"
      ],
      "metadata": {
        "colab": {
          "base_uri": "https://localhost:8080/"
        },
        "id": "vtD51mvIFeQd",
        "outputId": "bbbb1ef9-e793-49ed-e70e-c210082110d0"
      },
      "execution_count": 14,
      "outputs": [
        {
          "output_type": "stream",
          "name": "stdout",
          "text": [
            "apbqr\n"
          ]
        }
      ]
    }
  ]
}